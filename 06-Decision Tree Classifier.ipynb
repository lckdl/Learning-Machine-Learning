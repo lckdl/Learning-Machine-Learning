{
 "cells": [
  {
   "cell_type": "markdown",
   "metadata": {},
   "source": [
    "# 决策树分类 Decision Tree Classifier\n",
    "## 算法实现 implementation of algorithm"
   ]
  },
  {
   "cell_type": "code",
   "execution_count": 1,
   "metadata": {},
   "outputs": [],
   "source": [
    "import numpy as np\n",
    "import matplotlib.pyplot as plt\n",
    "from sklearn.datasets import load_iris\n",
    "from sklearn.model_selection import train_test_split"
   ]
  },
  {
   "cell_type": "markdown",
   "metadata": {},
   "source": [
    "### 数据集 Dataset"
   ]
  },
  {
   "cell_type": "code",
   "execution_count": 2,
   "metadata": {},
   "outputs": [
    {
     "data": {
      "image/png": "[encoded data removed]",
      "text/plain": [
       "<matplotlib.figure.Figure at 0x22fc77d7048>"
      ]
     },
     "metadata": {},
     "output_type": "display_data"
    }
   ],
   "source": [
    "iris = load_iris()\n",
    "X,y = iris.data[:,[2,3]], iris.target\n",
    "X_train,X_test,y_train,y_test = train_test_split(X,y)\n",
    "\n",
    "plt.scatter(X[:,0], X[:,1], c=y)\n",
    "plt.title(\"iris dataset\")\n",
    "plt.show()"
   ]
  },
  {
   "cell_type": "code",
   "execution_count": 3,
   "metadata": {},
   "outputs": [],
   "source": [
    "from collections import Counter\n",
    "class DecisionTreeClassifier():\n",
    "    def __init__(self):\n",
    "        '''\n",
    "        树数据结构：\n",
    "                根\n",
    "              (元素)\n",
    "        (feature,threshold)\n",
    "                /\\\n",
    "               /  \\\n",
    "              /    \\\n",
    "           左子树 右子树\n",
    "           (元素) (元素)\n",
    "            /  \\   /  \\\n",
    "           叶  叶 ...\n",
    "         (类别)\n",
    "        '''\n",
    "        self.tree = None\n",
    "        \n",
    "    def split(self, X, y, feature, value):\n",
    "        '''\n",
    "        分割子树，返回左右子树\n",
    "        '''\n",
    "        index_l = (X[:,feature] <= value)\n",
    "        index_r = (X[:,feature] > value)\n",
    "        return X[index_l], X[index_r], y[index_l], y[index_r]\n",
    "\n",
    "    def entropy(self, y):\n",
    "        '''\n",
    "        计算熵值\n",
    "        '''\n",
    "        counter = Counter(y)\n",
    "        ent = 0.0\n",
    "        for num in counter.values():\n",
    "            p = num / len(y)\n",
    "            ent += -p * np.log(p)\n",
    "        return ent\n",
    "\n",
    "    def find_best_split(self, X, y):\n",
    "        '''\n",
    "        寻找最佳分割特征以及阈值\n",
    "        '''\n",
    "        best_entropy = float('inf')\n",
    "        best_feature, threshold = -1, -1\n",
    "        n_samples, n_features = X.shape\n",
    "        for feature in range(n_features):\n",
    "            sorted_index = np.argsort(X[:,feature])\n",
    "            for i in range(1, len(X)):\n",
    "                if X[sorted_index[i], feature] != X[sorted_index[i-1], feature]:\n",
    "                    value = (X[sorted_index[i], feature] + X[sorted_index[i-1], feature]) / 2\n",
    "                    X_l, X_r, y_l, y_r = self.split(X, y, feature, value)\n",
    "                    e = len(y_l)/len(y) * self.entropy(y_l) + len(y_r)/len(y) * self.entropy(y_r)\n",
    "                    if e < best_entropy:\n",
    "                        best_entropy, best_feature, threshold = e, feature, value\n",
    "        return {'feature':best_feature, 'threshold':threshold}\n",
    "    \n",
    "    def create_leaf(self, y):\n",
    "        '''\n",
    "        构建叶子节点\n",
    "        '''\n",
    "        classification = max(set(y), key=list(y).count)\n",
    "        return classification\n",
    "    \n",
    "    def build_tree(self, X_train, y_train, node, depth, max_depth, min_samples):\n",
    "        '''\n",
    "        构建当前节点的树\n",
    "        '''\n",
    "        left_samples, right_samples, y_left_samples, y_right_samples = self.split(X_train, y_train, node['feature'], node['threshold'])\n",
    "\n",
    "        if len(y_left_samples) == 0 or len(y_right_samples) == 0:\n",
    "            node[\"left_child\"] = node[\"right_child\"] = self.create_leaf(np.append(y_left_samples, y_right_samples))\n",
    "            return None\n",
    "\n",
    "        if depth >= max_depth:\n",
    "            node[\"left_child\"] = self.create_leaf(y_left_samples)\n",
    "            node[\"right_child\"] = self.create_leaf(y_right_samples)\n",
    "            return None\n",
    "\n",
    "        if len(right_samples) < min_samples:\n",
    "            node[\"right_child\"] = self.create_leaf(y_right_samples)\n",
    "        else:\n",
    "            node[\"right_child\"] = self.find_best_split(right_samples, y_right_samples)\n",
    "            self.build_tree(right_samples, y_right_samples, node[\"right_child\"], depth+1, max_depth, min_samples)\n",
    "\n",
    "        if len(left_samples) < min_samples:\n",
    "            node[\"left_child\"] = self.create_leaf(y_left_samples)\n",
    "        else:\n",
    "            node[\"left_child\"] = self.find_best_split(left_samples, y_left_samples)\n",
    "            self.build_tree(left_samples, y_left_samples, node[\"left_child\"], depth+1, max_depth, min_samples)\n",
    "\n",
    "        return node\n",
    "    \n",
    "    def fit(self, X_train, y_train, max_depth, min_samples):\n",
    "        root = self.find_best_split(X, y)\n",
    "        self.tree = self.build_tree(X_train, y_train, root, 1, max_depth, min_samples)\n",
    "        if self.tree is None:\n",
    "            self.tree = root\n",
    "    \n",
    "    def predict(self, X_test, node=None):\n",
    "        if node is None:\n",
    "            node = self.tree\n",
    "        feature = node['feature']\n",
    "        threshold = node['threshold']\n",
    "        if X_test[feature] < threshold:\n",
    "            if isinstance(node['left_child'], (int, np.integer)):\n",
    "                return node['left_child']\n",
    "            else:\n",
    "                prediction = self.predict(X_test, node['left_child'])\n",
    "        elif X_test[feature] >= threshold:\n",
    "            if isinstance(node['right_child'], (int, np.integer)):\n",
    "                return node['right_child']\n",
    "            else:\n",
    "                prediction = self.predict(X_test, node['right_child'])\n",
    "        return prediction"
   ]
  },
  {
   "cell_type": "markdown",
   "metadata": {},
   "source": [
    "### 测试 Testing"
   ]
  },
  {
   "cell_type": "code",
   "execution_count": 4,
   "metadata": {},
   "outputs": [
    {
     "name": "stdout",
     "output_type": "stream",
     "text": [
      "Test accuracy from scratch: 97.36842105263158%\n",
      "\n",
      "{'feature': 0, 'threshold': 2.45, 'right_child': {'feature': 1, 'threshold': 1.75, 'left_child': 1, 'right_child': 2}, 'left_child': {'feature': 0, 'threshold': 1.05, 'left_child': 0, 'right_child': 0}}\n"
     ]
    }
   ],
   "source": [
    "clf = DecisionTreeClassifier()\n",
    "clf.fit(X_train, y_train, max_depth=2, min_samples=1)\n",
    "y_p_test = np.array([clf.predict(x) for x in X_test])\n",
    "test_acc = np.sum(y_p_test == y_test)/len(y_p_test) * 100\n",
    "print(f\"Test accuracy from scratch: {test_acc}%\\n\")\n",
    "clf.tree"
   ]
  },
  {
   "cell_type": "markdown",
   "metadata": {},
   "source": [
    "### 决策边界可视化 Visualize decision boundary"
   ]
  },
  {
   "cell_type": "code",
   "execution_count": 5,
   "metadata": {},
   "outputs": [],
   "source": [
    "def plot_decision_boundary(clf, X, y): \n",
    "    # Plotting decision regions\n",
    "    x_min, x_max = X[:, 0].min() - 1, X[:, 0].max() + 1\n",
    "    y_min, y_max = X[:, 1].min() - 1, X[:, 1].max() + 1\n",
    "    xx, yy = np.meshgrid(np.arange(x_min, x_max, 0.1),\n",
    "                         np.arange(y_min, y_max, 0.1))\n",
    "    \n",
    "    Z =  np.array([clf.predict(x) for x in np.c_[xx.ravel(), yy.ravel()]])\n",
    "    Z = Z.reshape(xx.shape)\n",
    "\n",
    "    from matplotlib.colors import ListedColormap\n",
    "    # Create color maps\n",
    "    cmap_light = ListedColormap(['#FFAAAA', '#AAFFAA', '#AAAAFF'])\n",
    "    cmap_bold = ListedColormap(['#FF0000', '#00FF00', '#0000FF'])\n",
    "    \n",
    "    plt.contourf(xx, yy, Z, cmap=cmap_light)"
   ]
  },
  {
   "cell_type": "code",
   "execution_count": 6,
   "metadata": {},
   "outputs": [
    {
     "data": {
      "image/png": "[encoded data removed]",
      "text/plain": [
       "<matplotlib.figure.Figure at 0x22fc96d5fd0>"
      ]
     },
     "metadata": {},
     "output_type": "display_data"
    }
   ],
   "source": [
    "plot_decision_boundary(clf, X, y)\n",
    "plt.scatter(X[:,0], X[:,1], c=y)\n",
    "plt.show()"
   ]
  },
  {
   "cell_type": "markdown",
   "metadata": {},
   "source": [
    "## scikit-learn"
   ]
  },
  {
   "cell_type": "code",
   "execution_count": 7,
   "metadata": {},
   "outputs": [],
   "source": [
    "from sklearn.tree import DecisionTreeClassifier"
   ]
  },
  {
   "cell_type": "code",
   "execution_count": 8,
   "metadata": {},
   "outputs": [
    {
     "data": {
      "text/plain": [
       "0.9736842105263158"
      ]
     },
     "execution_count": 8,
     "metadata": {},
     "output_type": "execute_result"
    }
   ],
   "source": [
    "dt_clf = DecisionTreeClassifier(max_depth=2, criterion=\"entropy\")\n",
    "dt_clf.fit(X_train, y_train)\n",
    "dt_clf.score(X_test, y_test)"
   ]
  },
  {
   "cell_type": "code",
   "execution_count": 9,
   "metadata": {},
   "outputs": [
    {
     "data": {
      "image/png": "[encoded data removed]",
      "text/plain": [
       "<matplotlib.figure.Figure at 0x22fc96d5080>"
      ]
     },
     "metadata": {},
     "output_type": "display_data"
    }
   ],
   "source": [
    "def plot_decision_boundary(clf, X, y): \n",
    "    # Plotting decision regions\n",
    "    x_min, x_max = X[:, 0].min() - 1, X[:, 0].max() + 1\n",
    "    y_min, y_max = X[:, 1].min() - 1, X[:, 1].max() + 1\n",
    "    xx, yy = np.meshgrid(np.arange(x_min, x_max, 0.1),\n",
    "                         np.arange(y_min, y_max, 0.1))\n",
    "    \n",
    "    Z = clf.predict(np.c_[xx.ravel(), yy.ravel()])\n",
    "    Z = Z.reshape(xx.shape)\n",
    "\n",
    "    from matplotlib.colors import ListedColormap\n",
    "    # Create color maps\n",
    "    cmap_light = ListedColormap(['#FFAAAA', '#AAFFAA', '#AAAAFF'])\n",
    "    cmap_bold = ListedColormap(['#FF0000', '#00FF00', '#0000FF'])\n",
    "    \n",
    "    plt.contourf(xx, yy, Z, cmap=cmap_light)\n",
    "\n",
    "plot_decision_boundary(dt_clf, X, y)\n",
    "plt.scatter(X[:,0], X[:,1], c=y)\n",
    "plt.show()"
   ]
  },
  {
   "cell_type": "code",
   "execution_count": null,
   "metadata": {},
   "outputs": [],
   "source": []
  }
 ],
 "metadata": {
  "kernelspec": {
   "display_name": "Python 3",
   "language": "python",
   "name": "python3"
  },
  "language_info": {
   "codemirror_mode": {
    "name": "ipython",
    "version": 3
   },
   "file_extension": ".py",
   "mimetype": "text/x-python",
   "name": "python",
   "nbconvert_exporter": "python",
   "pygments_lexer": "ipython3",
   "version": "3.6.4"
  }
 },
 "nbformat": 4,
 "nbformat_minor": 2
}
